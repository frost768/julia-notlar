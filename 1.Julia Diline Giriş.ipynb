{
 "cells": [
  {
   "cell_type": "markdown",
   "metadata": {},
   "source": [
    "# Julia Diline Başlangıç\n",
    "**Julia** dili, \n",
    "- Python gibi gözüken, \n",
    "- LISP gibi hissetiren, \n",
    "- C ve FORTRAN kadar hızlı olan \n",
    "bir teknik hesaplamalar için kullanılan bir dildir."
   ]
  },
  {
   "cell_type": "markdown",
   "metadata": {},
   "source": [
    "# REPL (Read, Evaluate, Print, Loop)\n",
    "Julia'nın interaktif konsoluna REPL (Oku, Hesapla, Sonucu Yaz, Tekrarla) adı verilmiştir.  \n",
    "Konsolun 4 parçası bulunur:\n",
    "- **julia>**:Julia konutlarının çalıştırıldığı istemci\n",
    "- **shell>**:Eğer UNIX tarzı bir işletim sistemi kullanıyorsanız BASH komutlarını bu istemci üzerinden çalıştırabilirsiniz. shell konsoluna **';'** yazarak geçiş yapabilirsiniz.\n",
    "- **help?>**:Bu konsola **'?'** yazarak geçiş yapabilirsiniz. Bir fonksiyon ya da kütüphane hakkında bilgi almak için kullanılır.\n",
    "- **pkg>**: Kütüphane yükleme, build etme vb. işlemler için kullanılan paket yöneticisidir.  Aynı zamanda **julia>** konsolu üzerinden **Pkg.komut_adi()** olarak ya da **']'** işareti kullanılarak erişilebilir. Bu komutlardan bazıları; add, rm, status, update komutlarıdır.\n",
    "- Yüklü kütüphaneleri konsol ortamına ilave etmek için C-tarzı diller gibi **'using'** ya da Python gibi **import** ibaresini kullanır.\n",
    "- Özet olarak kullanılacak simgeler ve kısayollar:\n",
    " - **?**\n",
    " - **;**\n",
    " - **]**\n",
    " - Yukarıda bahsedilmeyen **ans**, son işlemden kalan cevabı içinde tutar\n",
    "\n",
    "## **Örnekler:**  \n",
    "**julia>** a=5  \n",
    "**julia>** dizi1B = [5,3]  \n",
    "**julia>** dizi2B = [5 3]  \n",
    "**shell>** ls # o anki bulunan klasörü listeler  \n",
    "**shell>** mkdir klasor #\"klasor\" adında klasor oluşturur\n",
    "**help?>** log() # Logaritma fonksiyonu hakkında bilgi verir  \n",
    "**pkg>** add IJulia # IJulia kütüphanesini yükler  \n",
    "**pkg>** rm kutuphane_adi # Kütüphaneyi kaldırır\n",
    "\n",
    "İsterseniz birkaç matematiksel işlem ile başlayalım. Aritmetik işlemler herkesin bildiği üzere 5+5, 5-4, 5\\*3, 5^3 (Python gibi \"\\**\" değil), a+=5, a*=5 vb işlemler ile sağlanabilir. Bunun dışında operator(arguman1, arguman2,...) şeklinde de bir kullanım mevcuttur."
   ]
  },
  {
   "cell_type": "code",
   "execution_count": 10,
   "metadata": {},
   "outputs": [
    {
     "data": {
      "text/plain": [
       "15"
      ]
     },
     "execution_count": 10,
     "metadata": {},
     "output_type": "execute_result"
    }
   ],
   "source": [
    "+(5,4,6) # 15"
   ]
  },
  {
   "cell_type": "code",
   "execution_count": 9,
   "metadata": {},
   "outputs": [
    {
     "data": {
      "text/plain": [
       "6"
      ]
     },
     "execution_count": 9,
     "metadata": {},
     "output_type": "execute_result"
    }
   ],
   "source": [
    "*(1,2,3) # 6"
   ]
  },
  {
   "cell_type": "markdown",
   "metadata": {},
   "source": [
    "Diğer dillerden farklı olarak kesirleri *ondalıklı* veya *float* tipi ile göstermek dışında **//** ibaresi ile oluşturabilirsiniz."
   ]
  },
  {
   "cell_type": "code",
   "execution_count": 14,
   "metadata": {},
   "outputs": [
    {
     "data": {
      "text/plain": [
       "(2//3, 0.6666666666666666)"
      ]
     },
     "execution_count": 14,
     "metadata": {},
     "output_type": "execute_result"
    }
   ],
   "source": [
    "a=2//3; # 2/3\n",
    "b=2/3 # 0.66\n",
    "a,b"
   ]
  },
  {
   "cell_type": "markdown",
   "metadata": {},
   "source": [
    "Ayrıca REPL komut istemi **Unicode** karakterleri ve **LaTeX** (matematiksel semboller) notasyonunu da destekler.  \n",
    "Böylelikle matematiksel ifadelerin kod içinde kullanımıda sağlanmış olur. (Yine de best practice olarak alfanumerik karakterlerin kullanımı daha yaygın olacağı kesin **:)** ).  \n",
    "Aynı zamanda okunulabilirlik için değişkenlerin sayılar ile çarpımları * (çarpı) işareti kullanılmadan da kullanılabilir."
   ]
  },
  {
   "cell_type": "code",
   "execution_count": 19,
   "metadata": {},
   "outputs": [
    {
     "name": "stdout",
     "output_type": "stream",
     "text": [
      "α+β=180°"
     ]
    }
   ],
   "source": [
    "print(\"α+β=180°\") # \\alpha <TAB> + \\beta <TAB> = 180 \\degree <TAB>"
   ]
  },
  {
   "cell_type": "code",
   "execution_count": 20,
   "metadata": {},
   "outputs": [
    {
     "data": {
      "text/plain": [
       "8"
      ]
     },
     "execution_count": 20,
     "metadata": {},
     "output_type": "execute_result"
    }
   ],
   "source": [
    "x=2;\n",
    "2x+4 # 8"
   ]
  },
  {
   "cell_type": "markdown",
   "metadata": {},
   "source": [
    "Dizilerde elementer (element bazlı) işlemler için dağıtıcı (broadcast) operatörü olan **\".\"** nın kullanımı da şöyledir:\n",
    "- dizi1.*operator*(dizi2) = dizi1'in dizi2'deki karşılığını al ve operatör işlemini uygula."
   ]
  },
  {
   "cell_type": "code",
   "execution_count": 21,
   "metadata": {},
   "outputs": [
    {
     "data": {
      "text/plain": [
       "3-element Array{Int64,1}:\n",
       " 3\n",
       " 5\n",
       " 7"
      ]
     },
     "execution_count": 21,
     "metadata": {},
     "output_type": "execute_result"
    }
   ],
   "source": [
    "a=[1,2,3]; b=[2,3,4];\n",
    "a.+(b)"
   ]
  },
  {
   "cell_type": "markdown",
   "metadata": {},
   "source": [
    "# Değişken adlandırma ve çoklu atama\n",
    "Değişken isimleri **noktalama işaretleri ve sayılar hariç** her karakter ile başlaması uygundur.  \n",
    "Hatta özel *Unicode* karakterleri de bunlar için kullanılabilir."
   ]
  },
  {
   "cell_type": "code",
   "execution_count": 34,
   "metadata": {},
   "outputs": [
    {
     "data": {
      "text/plain": [
       "(50, 5000.0, 9.0)"
      ]
     },
     "execution_count": 34,
     "metadata": {},
     "output_type": "execute_result"
    }
   ],
   "source": [
    "🐱=50; 🐢=5e3; 🐶=9.0; # ya da \n",
    "🐱,🐢,🐶=(50,5e3,9.0);\n",
    "🐱,🐢,🐶 # Buradaki çıktıya dikkat ederseniz () işaretleri arasındadır. Bu çıktının tuple (sıralı dizi) olduğunu gösterir."
   ]
  },
  {
   "cell_type": "code",
   "execution_count": null,
   "metadata": {},
   "outputs": [],
   "source": []
  }
 ],
 "metadata": {
  "kernelspec": {
   "display_name": "Julia 1.4.1",
   "language": "julia",
   "name": "julia-1.4"
  },
  "language_info": {
   "file_extension": ".jl",
   "mimetype": "application/julia",
   "name": "julia",
   "version": "1.4.1"
  }
 },
 "nbformat": 4,
 "nbformat_minor": 4
}
