{
 "cells": [
  {
   "cell_type": "markdown",
   "metadata": {},
   "source": [
    "# Julia Diline Başlangıç\n",
    "**Julia** dili, \n",
    "- Python gibi gözüken, \n",
    "- LISP gibi hissetiren, \n",
    "- C ve FORTRAN kadar hızlı olan \n",
    "bir teknik hesaplamalar için kullanılan bir dildir."
   ]
  },
  {
   "cell_type": "markdown",
   "metadata": {},
   "source": [
    "# REPL (Read, Evaluate, Print, Loop)\n",
    "Julia'nın interaktif konsoluna REPL (Oku, Hesapla, Sonucu Yaz, Tekrarla) adı verilmiştir.  \n",
    "Konsolun 4 parçası bulunur:\n",
    "- **julia>**:Julia konutlarının çalıştırıldığı istemci\n",
    "- **shell>**:Eğer UNIX tarzı bir işletim sistemi kullanıyorsanız BASH komutlarını bu istemci üzerinden çalıştırabilirsiniz. shell konsoluna **';'** yazarak geçiş yapabilirsiniz.\n",
    "- **help?>**:Bu konsola **'?'** yazarak geçiş yapabilirsiniz. Bir fonksiyon ya da kütüphane hakkında bilgi almak için kullanılır.\n",
    "- **pkg>**: Kütüphane yükleme, build etme vb. işlemler için kullanılan paket yöneticisidir.  Aynı zamanda **julia>** konsolu üzerinden **Pkg.komut_adi()** olarak ya da **']'** işareti kullanılarak erişilebilir. Bu komutlardan bazıları; add, rm, status, update komutlarıdır.\n",
    "- Yüklü kütüphaneleri konsol ortamına ilave etmek için C-tarzı diller gibi **'using'** ya da Python gibi **'import'** ibaresini kullanır.\n",
    "- Özet olarak kullanılacak simgeler ve kısayollar:\n",
    " - **?**\n",
    " - **;**\n",
    " - **]**\n",
    " - Yukarıda bahsedilmeyen **ans**, son işlemden kalan cevabı içinde tutar\n",
    "\n",
    "## **Örnekler:**  \n",
    "**julia>** a=5  \n",
    "**julia>** dizi1B = [5,3]  \n",
    "**julia>** dizi2B = [5 3]  \n",
    "**shell>** ls # o anki bulunan klasörü listeler  \n",
    "**shell>** mkdir klasor #\"klasor\" adında klasor oluşturur\n",
    "**help?>** log() # Logaritma fonksiyonu hakkında bilgi verir  \n",
    "**pkg>** add IJulia # IJulia kütüphanesini yükler  \n",
    "**pkg>** rm kutuphane_adi # Kütüphaneyi kaldırır\n",
    "\n",
    "İsterseniz birkaç matematiksel işlem ile başlayalım. Aritmetik işlemler herkesin bildiği üzere 5+5, 5-4, 5\\*3, 5^3 (Python gibi \"\\**\" değil), a+=5, a*=5 vb işlemler ile sağlanabilir. Bunun dışında operator(arguman1, arguman2,...) şeklinde de bir kullanım mevcuttur."
   ]
  },
  {
   "cell_type": "code",
   "execution_count": 10,
   "metadata": {},
   "outputs": [
    {
     "data": {
      "text/plain": [
       "15"
      ]
     },
     "execution_count": 10,
     "metadata": {},
     "output_type": "execute_result"
    }
   ],
   "source": [
    "+(5,4,6) # 15"
   ]
  },
  {
   "cell_type": "code",
   "execution_count": 9,
   "metadata": {},
   "outputs": [
    {
     "data": {
      "text/plain": [
       "6"
      ]
     },
     "execution_count": 9,
     "metadata": {},
     "output_type": "execute_result"
    }
   ],
   "source": [
    "*(1,2,3) # 6"
   ]
  },
  {
   "cell_type": "markdown",
   "metadata": {},
   "source": [
    "Diğer dillerden farklı olarak kesirleri *ondalıklı* veya *float* tipi ile göstermek dışında **//** ibaresi ile oluşturabilirsiniz."
   ]
  },
  {
   "cell_type": "code",
   "execution_count": 14,
   "metadata": {},
   "outputs": [
    {
     "data": {
      "text/plain": [
       "(2//3, 0.6666666666666666)"
      ]
     },
     "execution_count": 14,
     "metadata": {},
     "output_type": "execute_result"
    }
   ],
   "source": [
    "a=2//3; # 2/3\n",
    "b=2/3 # 0.66\n",
    "a,b"
   ]
  },
  {
   "cell_type": "markdown",
   "metadata": {},
   "source": [
    "Ayrıca REPL komut istemi **Unicode** karakterleri ve **LaTeX** (matematiksel semboller) notasyonunu da destekler.  \n",
    "Böylelikle matematiksel ifadelerin kod içinde kullanımıda sağlanmış olur. (Yine de best practice olarak alfanumerik karakterlerin kullanımı daha yaygın olacağı kesin **:)** ).  \n",
    "Aynı zamanda okunulabilirlik için değişkenlerin sayılar ile çarpımları * (çarpı) işareti kullanılmadan da kullanılabilir."
   ]
  },
  {
   "cell_type": "code",
   "execution_count": 19,
   "metadata": {},
   "outputs": [
    {
     "name": "stdout",
     "output_type": "stream",
     "text": [
      "α+β=180°"
     ]
    }
   ],
   "source": [
    "print(\"α+β=180°\") # \\alpha <TAB> + \\beta <TAB> = 180 \\degree <TAB>"
   ]
  },
  {
   "cell_type": "code",
   "execution_count": 20,
   "metadata": {},
   "outputs": [
    {
     "data": {
      "text/plain": [
       "8"
      ]
     },
     "execution_count": 20,
     "metadata": {},
     "output_type": "execute_result"
    }
   ],
   "source": [
    "x=2;\n",
    "2x+4 # 8"
   ]
  },
  {
   "cell_type": "markdown",
   "metadata": {},
   "source": [
    "Dizilerde elementer (element bazlı) işlemler için dağıtıcı (broadcast) operatörü olan **\".\"** nın kullanımı da şöyledir:\n",
    "- dizi1.*operator*(dizi2) = dizi1'in dizi2'deki karşılığını al ve operatör işlemini uygula."
   ]
  },
  {
   "cell_type": "code",
   "execution_count": 24,
   "metadata": {},
   "outputs": [
    {
     "data": {
      "text/plain": [
       "3-element Array{Int64,1}:\n",
       " 3\n",
       " 5\n",
       " 7"
      ]
     },
     "execution_count": 24,
     "metadata": {},
     "output_type": "execute_result"
    }
   ],
   "source": [
    "a=[1,2,3]; b=[2,3,4];\n",
    "a.+(b)"
   ]
  },
  {
   "cell_type": "markdown",
   "metadata": {},
   "source": [
    "## Stringler ve Karakterler\n",
    "Stringler ve karakterler arasındaki farklar tırnak işaretleri ile belirlenir.\n",
    "- \"Kelime\"\n",
    "- \"\"\"Winston birden duraksadı. \"Ben bu günlüğü kim için yazıyorum?\" dedi.\"\"\"\n",
    "- 'J','u','l','i','a' \n",
    "\n",
    "Stringlerin birleşimi \n",
    "- *string(\"Julia\",\" Winston\",\" Telescreen\")* # \"Julia Winston Telescreen\"\n",
    "- replace(degistirilecek_str,aranan ==> yerine_gecen), findfirst(chr,str)\n",
    "- length(str)"
   ]
  },
  {
   "cell_type": "code",
   "execution_count": 87,
   "metadata": {},
   "outputs": [
    {
     "data": {
      "text/plain": [
       "(17, \"Python ogreniyorum\", 7:8)"
      ]
     },
     "execution_count": 87,
     "metadata": {},
     "output_type": "execute_result"
    }
   ],
   "source": [
    "cumle=\"Julia ogreniyorum\"\n",
    "uzunluk,python_julia,ilk_y_harfi=length(cumle),\n",
    "                                replace(cumle,\"Julia\" =>\"Python\"),\n",
    "                                findfirst(\"og\",cumle)"
   ]
  },
  {
   "cell_type": "markdown",
   "metadata": {},
   "source": [
    "## Değişkenler ve çoklu atama\n",
    "Değişken isimleri **noktalama işaretleri ve sayılar hariç** her karakter ile başlaması uygundur.  \n",
    "Hatta özel *Unicode* karakterleri de bunlar için kullanılabilir.  \n",
    "Print fonksiyonunda değişkenlere erişilmesi için *$* işareti kullanılır."
   ]
  },
  {
   "cell_type": "code",
   "execution_count": 3,
   "metadata": {},
   "outputs": [
    {
     "data": {
      "text/plain": [
       "(5, 5000.0, 9.0, \"_\")"
      ]
     },
     "execution_count": 3,
     "metadata": {},
     "output_type": "execute_result"
    }
   ],
   "source": [
    "🐱=5; 🐢=5e3; 🐶=9.0; # ya da \n",
    "🐱,🐢,🐶=(5,5e3,9.0);\n",
    "_underscore=\"_\";\n",
    "🐱,🐢,🐶,_underscore # Buradaki çıktıya dikkat ederseniz () işaretleri arasındadır. Bu çıktının tuple (sıralı dizi) olduğunu gösterir."
   ]
  },
  {
   "cell_type": "code",
   "execution_count": 29,
   "metadata": {},
   "outputs": [
    {
     "name": "stdout",
     "output_type": "stream",
     "text": [
      "Winston'ın 5 tane kedisi var"
     ]
    }
   ],
   "source": [
    "print(\"Winston'ın $🐱 tane kedisi var\")"
   ]
  },
  {
   "cell_type": "code",
   "execution_count": 32,
   "metadata": {
    "scrolled": false
   },
   "outputs": [
    {
     "name": "stdout",
     "output_type": "stream",
     "text": [
      "Julia'nın 3 x 4 boyutlu 12 verisi var\n"
     ]
    }
   ],
   "source": [
    "x,y=3,4;\n",
    "println(\"Julia'nın $x x $y boyutlu $(x*y) verisi var\")"
   ]
  },
  {
   "cell_type": "markdown",
   "metadata": {},
   "source": [
    "# Fonksiyonlar\n",
    "## Fonksiyon tanımlama\n",
    "- function fonk_ad(arg1,arg2=varsayılan_deger,....) | function fonk_ad(args...)\n",
    "    - yapılacak seyler\n",
    "    - println(\"Ben bir fonksiyonum\")\n",
    "        - function fonk_ici_fonk(args)\n",
    "           - kapsayan fonksiyona yardımcı\n",
    "           - olan şeyler yap\n",
    "        - end\n",
    "- end \n",
    "*veya*\n",
    "- fonk_ad(args)= islemler\n",
    "*veya*\n",
    "Lambda (anonim) fonksiyonlar\n",
    "- fonk_ad = (arg1,arg2,..) -> islemler\n",
    "fonk_ad!(args) : fonksiyonun verilen argüman içeriğini değiştirir\n",
    "\n",
    "## Explicit Tipli Fonksiyonlar\n",
    "- function fonk_ad(args::*T*)::Tip *where T <:* Tip\n",
    "    - bir seyler yap\n",
    "    - sonuc=islem_sonucu\n",
    "    - return sonuc\n",
    "- end"
   ]
  },
  {
   "cell_type": "code",
   "execution_count": 21,
   "metadata": {},
   "outputs": [
    {
     "name": "stdout",
     "output_type": "stream",
     "text": [
      "Merhaba Andrei Tartovsky, tanıştığımıza memnun oldum.\n",
      "Merhaba Andrei\n",
      "Nasıl gidiyor, Andrei The Director ?\n"
     ]
    }
   ],
   "source": [
    "function merhaba_de(ad,soyad)\n",
    "    println(\"Merhaba $ad $soyad\" * \", tanıştığımıza memnun oldum.\")\n",
    "end\n",
    "\n",
    "#samimiyet önemli\n",
    "merhaba2(ad)=println(\"Merhaba $ad\")\n",
    "nasılsın= (ad,soyad=\"The Director\") -> println(\"Nasıl gidiyor, $ad $soyad ?\")\n",
    "\n",
    "merhaba_de(\"Andrei\",\"Tartovsky\")\n",
    "merhaba2(\"Andrei\")\n",
    "nasılsın(\"Andrei\")"
   ]
  },
  {
   "cell_type": "code",
   "execution_count": 108,
   "metadata": {},
   "outputs": [
    {
     "data": {
      "text/plain": [
       "59"
      ]
     },
     "execution_count": 108,
     "metadata": {},
     "output_type": "execute_result"
    }
   ],
   "source": [
    "#sayısal fonksiyonlar deneyelim\n",
    "A=rand(1:6,4,4); B=collect(rand(1:100,6));\n",
    "kare_Al(x) = x^2\n",
    "topla_Bakalim(dizi)=sum(dizi)\n",
    "kare_Al(A)\n",
    "topla_Bakalim(A)"
   ]
  },
  {
   "cell_type": "code",
   "execution_count": 109,
   "metadata": {},
   "outputs": [
    {
     "data": {
      "text/plain": [
       "6-element Array{Int64,1}:\n",
       " 4225\n",
       "    4\n",
       " 6889\n",
       " 7396\n",
       " 3364\n",
       " 4900"
      ]
     },
     "execution_count": 109,
     "metadata": {},
     "output_type": "execute_result"
    }
   ],
   "source": [
    "#kare_Al(B) : hata verir vektörlerin karesi alınamaz\n",
    "kare_Al.(B) #kare_Al fonksiyonun işlevini her bir element için uyguladı (yayma:broadcasting)"
   ]
  },
  {
   "cell_type": "code",
   "execution_count": 112,
   "metadata": {},
   "outputs": [
    {
     "data": {
      "text/plain": [
       "([2, 58, 65, 70, 83, 86], [2, 58, 65, 70, 83, 86])"
      ]
     },
     "execution_count": 112,
     "metadata": {},
     "output_type": "execute_result"
    }
   ],
   "source": [
    "sort(B),B"
   ]
  },
  {
   "cell_type": "code",
   "execution_count": 111,
   "metadata": {},
   "outputs": [
    {
     "data": {
      "text/plain": [
       "([2, 58, 65, 70, 83, 86], [2, 58, 65, 70, 83, 86])"
      ]
     },
     "execution_count": 111,
     "metadata": {},
     "output_type": "execute_result"
    }
   ],
   "source": [
    "sort!(B),B"
   ]
  },
  {
   "cell_type": "code",
   "execution_count": 115,
   "metadata": {},
   "outputs": [
    {
     "data": {
      "text/plain": [
       "\"6\""
      ]
     },
     "execution_count": 115,
     "metadata": {},
     "output_type": "execute_result"
    }
   ],
   "source": [
    "function sayiDonustur(sayi::T)::String where T <:Number\n",
    "    return \"$sayi\"\n",
    "end\n",
    "sayiDonustur(6)\n",
    "#sayiDonustur(\"gd\") -> hata"
   ]
  },
  {
   "cell_type": "markdown",
   "metadata": {},
   "source": [
    "## Diziler,Matrisler ve Kullanılabilecek Diğer Fonksiyonlar\n",
    "Dizi ve matrisler alışkın olduğumuz **[]** köşeli parantez yapısı ile belirtilmiş.  \n",
    "Dizi tanımı ise **Array{Tip,(boyut))** şeklinde: burada tip **Any**, **String**, **Char**, **Int64**, **Float64** vb. tipleri temsil ederken boyut 1 ile n'e kadar olan tuple listesi ile temsil edilir.  \n",
    "Dizi tanımlarken açık olarak tipte belirtebiliriz:\n",
    "- Tip[tip_eleman1,tip_eleman2]\n",
    "- Tip[] #boş tip dizisi\n",
    "Örneğin:  \n",
    "- dizi1D=[1,2,3]\n",
    "    - Array{Int64,1} türünde bir dizi döndürür.\n",
    "- matris2D=[1.0 2 3; **reshape(rand(3)*10,(1,3))**]\n",
    "    - Array{Float64,2} türünde 1x3 matris döndürür. Dizi oluşturulurken arada boşluk bırakılması sütunları temsil eder. \n",
    "    - Sütunlardan sonra ; işareti ile alt satıra geçilir.\n",
    "    - **rand(boyut,boyut,..) ya da rand(sayi)*** : *sayi* kadar ya da *boyut x boyut x boyut x ..* boyutlarında  [0,1] aralığında değerler döndürür.\n",
    "        - Kardeşi diyebileceğimiz **randn(boyut,boyut,...) ya da randn(sayi)** ise normal dağılımlı (ortalaması=0, standart sapması=1 olan değerler döndürür.\n",
    "    - **reshape(array,(boyut1,boyut2,..))** verilen diziyi boyut şeklinde sütun ve satır yapısına dönüştürür.  \n",
    "        - Buradaki (1,3); 1,3 şeklinde de yazılabilirdi.\n",
    "- dizi_dizisi=[[1,2,3,4],collect(4:7)]\n",
    "    - Array{Array{Int64,1},1} - Dizi tipli bir dizi  \n",
    "    - **collect()** range objelerini array olarak döndürür\n",
    "        - Bunun diğer bir yöntemi de [baslangic:(adim:)son...] olarak yazılmasıdır.\n",
    "    - **Range (aralık)** objeleri *baslangic:adım:son* olarak belirlenebilir.\n",
    "        - Bu objeler **for** yapılarında ya da dizi oluşturmada kolaylık sağlar\n",
    "        - Son geri dönen sıralı diziye dahildir.\n",
    "- dizi_comprehension = [ i+j for i in 1:5, j in 1:10]\n",
    "    - Lambda fonksiyonlarına benzer bir dille yazılan bu ifadelere comprehension deniyor.\n",
    "        - [ işlem for birinci_par in (range|iterable), ikinci_par in (range|iterable),...]\n",
    "\n",
    "- size(matris) : matris boyutu"
   ]
  },
  {
   "cell_type": "code",
   "execution_count": 37,
   "metadata": {},
   "outputs": [
    {
     "name": "stdout",
     "output_type": "stream",
     "text": [
      "1\n",
      "2\n",
      "3\n",
      "4\n",
      "5\n",
      "6\n",
      "7\n",
      "8\n",
      "9\n",
      "10\n"
     ]
    },
    {
     "data": {
      "text/plain": [
       "Array{Nothing,1}"
      ]
     },
     "execution_count": 37,
     "metadata": {},
     "output_type": "execute_result"
    }
   ],
   "source": [
    "#=\n",
    "for rakam in 1:10 \n",
    "    print(rakam)\n",
    "end\n",
    "=#\n",
    "\n",
    "# for rakam in 1:10 print(rakam) end\n",
    "#sizce rakamlar ne ile dolu? \n",
    "#ipucu: \";\" işaretini kaldırın veya typeof(rakamlar)\n",
    "rakamlar=[println(rakam) for rakam in 1:10];\n",
    "#typeof(rakamlar)"
   ]
  },
  {
   "cell_type": "code",
   "execution_count": 90,
   "metadata": {},
   "outputs": [
    {
     "data": {
      "text/plain": [
       "Array{Int64,1}"
      ]
     },
     "execution_count": 90,
     "metadata": {},
     "output_type": "execute_result"
    }
   ],
   "source": [
    "dizi1D=[1,2,3];\n",
    "matris2D=[1.0 2 3; reshape(rand(3)*10,1,3)];\n",
    "dizi_dizisi=[[1,2,3,4],collect(4:7)]; \n",
    "dizi_comprehension = [ i+j for i in 1:5, j in 1:10]\n",
    "string_dizi=[\"bu\",\"bir\",\"string\",\"dizisidir\"];\n",
    "intdizi=Int64[1,2,4];\n",
    "dizi1D"
   ]
  },
  {
   "cell_type": "code",
   "execution_count": 57,
   "metadata": {},
   "outputs": [
    {
     "data": {
      "text/plain": [
       "2×3 Array{Float64,2}:\n",
       " 1.0      2.0      3.0\n",
       " 5.89789  6.09755  9.00343"
      ]
     },
     "execution_count": 57,
     "metadata": {},
     "output_type": "execute_result"
    }
   ],
   "source": [
    "matris2D"
   ]
  },
  {
   "cell_type": "code",
   "execution_count": 19,
   "metadata": {},
   "outputs": [
    {
     "data": {
      "text/plain": [
       "2-element Array{Array{Int64,1},1}:\n",
       " [1, 2, 3, 4]\n",
       " [4, 5, 6, 7]"
      ]
     },
     "execution_count": 19,
     "metadata": {},
     "output_type": "execute_result"
    }
   ],
   "source": [
    "dizi_dizisi"
   ]
  },
  {
   "cell_type": "code",
   "execution_count": 18,
   "metadata": {},
   "outputs": [
    {
     "data": {
      "text/plain": [
       "5×10 Array{Int64,2}:\n",
       " 2  3  4  5   6   7   8   9  10  11\n",
       " 3  4  5  6   7   8   9  10  11  12\n",
       " 4  5  6  7   8   9  10  11  12  13\n",
       " 5  6  7  8   9  10  11  12  13  14\n",
       " 6  7  8  9  10  11  12  13  14  15"
      ]
     },
     "execution_count": 18,
     "metadata": {},
     "output_type": "execute_result"
    }
   ],
   "source": [
    "dizi_comprehension"
   ]
  },
  {
   "cell_type": "code",
   "execution_count": 22,
   "metadata": {},
   "outputs": [
    {
     "data": {
      "text/plain": [
       "4-element Array{String,1}:\n",
       " \"bu\"\n",
       " \"bir\"\n",
       " \"string\"\n",
       " \"dizisidir\""
      ]
     },
     "execution_count": 22,
     "metadata": {},
     "output_type": "execute_result"
    }
   ],
   "source": [
    "string_dizi"
   ]
  },
  {
   "cell_type": "code",
   "execution_count": 35,
   "metadata": {},
   "outputs": [
    {
     "data": {
      "text/plain": [
       "3-element Array{Int64,1}:\n",
       " 1\n",
       " 2\n",
       " 4"
      ]
     },
     "execution_count": 35,
     "metadata": {},
     "output_type": "execute_result"
    }
   ],
   "source": [
    "intdizi"
   ]
  },
  {
   "cell_type": "markdown",
   "metadata": {},
   "source": [
    "### Dizi verilerine ulaşma, veri ekleme ve çıkarma\n",
    "Python tarzı bir index yöntemi var.  \n",
    "a=Float64[1.0 2.0 3.0]\n",
    "- a[[2,3]] # 2.0 3.0\n",
    "- pop!(dizi) : son elementi çıkar\n",
    "- popfirst!(dizi) : ilk elementi çıkar\n",
    "- push!()\n",
    "- pushfirst()\n",
    "- append!(dizi1,dizi2)\n",
    "- deleteat!(dizi,silinecek_element_idx)\n",
    "- sort!()\n",
    "- deger in dizi : *deger* dizide var mı yok mu\n",
    "- join(dizi, ayrac) : dizi degerlerini arasına ayrac koyarak cıkar \n",
    "\n",
    "Dikkat edilirse Julia'nın index değeri 1 ile başladığı görülür."
   ]
  },
  {
   "cell_type": "code",
   "execution_count": 130,
   "metadata": {},
   "outputs": [
    {
     "name": "stdout",
     "output_type": "stream",
     "text": [
      "1\n",
      "4\n",
      "2.7740931007094094\n"
     ]
    }
   ],
   "source": [
    " for i in (dizi_dizisi[1][1],intdizi[3],matris2D[2,3])\n",
    "    println(i)\n",
    "end"
   ]
  },
  {
   "cell_type": "code",
   "execution_count": null,
   "metadata": {},
   "outputs": [],
   "source": [
    "Tipik dizi türleri içinde fonksiyonlar vardır:\n",
    "- zeros(boyut1,boyut2,...)\n",
    "- ones(boyut1,boyut2,...)\n",
    "- trues(boyut1,boyut2,...) , falses(boyut1,boyut2,...)\n",
    "Dizileri doldurmak içinde *fill(doldurulacak_item,(boyutlar))* fonksiyonu kullanılır.\n",
    "Ya da *repeat(dizi,(boyutlar))* şeklinde diziyi boyutlar içerisinde yayabiliriz"
   ]
  },
  {
   "cell_type": "code",
   "execution_count": 51,
   "metadata": {},
   "outputs": [
    {
     "data": {
      "text/plain": [
       "2×2 Array{Int64,2}:\n",
       " 2  2\n",
       " 2  2"
      ]
     },
     "execution_count": 51,
     "metadata": {},
     "output_type": "execute_result"
    }
   ],
   "source": [
    "birler=fill(1,2,2)\n",
    "ikiyle_degistir=fill!(birler,2) \n",
    "# Ünlem işareti özel bir operatördür. \n",
    "# Bir fonksiyonun sonunda ! var ise bu önceden belirlenmiş bir değişkenin fonksiyondan dönen değerler ile değişeceğini işaret eder.\n",
    "# ikiler=repeat(birler*2,2,2)\n",
    "birler"
   ]
  },
  {
   "cell_type": "code",
   "execution_count": 91,
   "metadata": {},
   "outputs": [
    {
     "data": {
      "text/plain": [
       "2-element Array{Float64,1}:\n",
       " 2.0\n",
       " 6.097552280307632"
      ]
     },
     "execution_count": 91,
     "metadata": {},
     "output_type": "execute_result"
    }
   ],
   "source": [
    "matris2D[:,2] #ikinci sütunu al"
   ]
  },
  {
   "cell_type": "code",
   "execution_count": 90,
   "metadata": {},
   "outputs": [
    {
     "data": {
      "text/plain": [
       "3-element Array{Float64,1}:\n",
       " 1.0\n",
       " 2.0\n",
       " 3.0"
      ]
     },
     "execution_count": 90,
     "metadata": {},
     "output_type": "execute_result"
    }
   ],
   "source": [
    "matris2D[1,:] #birinci satırı al"
   ]
  },
  {
   "cell_type": "markdown",
   "metadata": {},
   "source": [
    "Güzel bir örnek olarak şu verilebilir."
   ]
  },
  {
   "cell_type": "code",
   "execution_count": 52,
   "metadata": {},
   "outputs": [
    {
     "data": {
      "text/plain": [
       "5×5 Array{Int64,2}:\n",
       " 8  2  2  10   8\n",
       " 5  4  6   4  10\n",
       " 4  5  5   2   2\n",
       " 6  6  3  10   4\n",
       " 5  9  5   8   5"
      ]
     },
     "execution_count": 52,
     "metadata": {},
     "output_type": "execute_result"
    }
   ],
   "source": [
    "A=rand(1:10,(5,5)) #random 5x5 matris oluştur"
   ]
  },
  {
   "cell_type": "code",
   "execution_count": 53,
   "metadata": {},
   "outputs": [
    {
     "data": {
      "text/plain": [
       "5×5 BitArray{2}:\n",
       " 0  0  0  0  0\n",
       " 1  0  0  0  0\n",
       " 0  1  1  0  0\n",
       " 0  0  0  0  0\n",
       " 1  0  1  0  1"
      ]
     },
     "execution_count": 53,
     "metadata": {},
     "output_type": "execute_result"
    }
   ],
   "source": [
    "A.==5 #A matrisinde değerleri 5 olanları bul ve true false matrisi döndür"
   ]
  },
  {
   "cell_type": "code",
   "execution_count": 54,
   "metadata": {},
   "outputs": [
    {
     "data": {
      "text/plain": [
       "5×5 Array{Int64,2}:\n",
       " 8  2  2  10   8\n",
       " 6  4  6   4  10\n",
       " 4  6  6   2   2\n",
       " 6  6  3  10   4\n",
       " 6  9  6   8   6"
      ]
     },
     "execution_count": 54,
     "metadata": {},
     "output_type": "execute_result"
    }
   ],
   "source": [
    "A[A.==5].=6; #true false ile seçili olan indisleri 6 yap\n",
    "A"
   ]
  },
  {
   "cell_type": "markdown",
   "metadata": {},
   "source": [
    "Matris ve vektör işlemleride yine $+,*,-, '$ (Transpose) vb. operatörleri ile yapılabilmektedir. Boyutların işlem için geçerli olmasına dikkat edin yeter."
   ]
  },
  {
   "cell_type": "code",
   "execution_count": 68,
   "metadata": {
    "scrolled": true
   },
   "outputs": [
    {
     "data": {
      "text/plain": [
       "([8 8; 12 12], [2 2; 9 9])"
      ]
     },
     "execution_count": 68,
     "metadata": {},
     "output_type": "execute_result"
    }
   ],
   "source": [
    "A,B= [2 2; 3 3], [1 1; 3 3];\n",
    "matrisCarpım,elementselCarpım= A*B, A.*B"
   ]
  },
  {
   "cell_type": "markdown",
   "metadata": {},
   "source": [
    "Vektör ve matrisleri birleştirmek için **hcat(matris veya vektör,matris veya vektör) ve vcat(matris veya vektör,matris veya vektör)** fonksiyonları kullanılır. \n",
    "- [A;B] = vcat(A,B) # v dikey (vertical)\n",
    "- [A B] = hcat(A,B) # h yatay (horizontal)\n",
    "- [A B; C D;] = hvcat()\n",
    "Eğer bir matrisi vektöre dönüştürmek isterseniz **vec(matris)** kullanılabilir."
   ]
  }
 ],
 "metadata": {
  "kernelspec": {
   "display_name": "Julia 1.4.1",
   "language": "julia",
   "name": "julia-1.4"
  },
  "language_info": {
   "file_extension": ".jl",
   "mimetype": "application/julia",
   "name": "julia",
   "version": "1.4.1"
  }
 },
 "nbformat": 4,
 "nbformat_minor": 4
}
