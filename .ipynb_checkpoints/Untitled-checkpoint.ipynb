{
 "cells": [
  {
   "cell_type": "markdown",
   "metadata": {},
   "source": [
    "# MARKOV ZİNCİRİ DENEMESİ\n",
    "Bir markov zinciri kullanılarak bir metinde geçen harflerin frekanslarına bakarak herhangi bir kelimedeki bir sonraki harfin ne olacağını tahmin etmeye çalışan bir sistemdir.\n",
    "Mertebeleri vardır. Bu mertebe kelime bir sonraki harfi tahmin etmeden önceki kaç harfe bakıldığını gösterir. $k-gram$ ya da $k.mertebe$ de denilebilir.  \n",
    "- Google'ın otomatik arama tamamlaması gibi\n",
    "\n",
    "Örnek verecek olursak;\n",
    "Elimizde \"aggcggacc\" gibi 3 harfli bir alfabeden oluşan anlamlı bir kelime olsun  \n",
    "Bu kelimedeki harflerin frekanslarına bakarak belirme olasılıklarını bulabiliriz  \n",
    "$a=\\frac{2}{9}, g=\\frac{4}{9}$ ve $c=\\frac{3}{9}$ gibi bir sonuç ile her harfin belirme olasıklkları bulunur.  \n",
    "Elimizdeki bu model ile farklı uzunluklardaki kelimeler bu olasılıklara bakarak oluşturulabilir.\n",
    "\n",
    "## Mertebeler\n",
    "- 0.Dereceden bir mertebe (önceki harflere bakmadan) her harfin kendi olasılığı ile belireceğini belirtir.\n",
    "- 1.dereceden bir mertebe önceki 1 harfe bakarak bir sonraki tahmini önceki harfin olasılığına göre ağırlık verdirir.\n",
    "- Mertebeler böyle devam edebilir.  \n",
    "\n",
    "Örneğin bir metinde 100 tane **th** hecesi var ve bu **th** hecesini kapsayan 60 th**e**, 25 th**i**, 10 th**a** ve 5 tane th**o** hecesi var ise 2-gram'lık (2.mertebeden) bir Markov zincirine göre  \n",
    "$e=\\frac{3}{5}, i=\\frac{1}{4}, a=\\frac{1}{10}$ ve $o=\\frac{1}{20}$ olasılık ile **th** hecesinden sonra belirir.\n",
    "\n",
    "[Kaynak](https://www.cs.princeton.edu/courses/archive/spring05/cos126/assignments/markov.html)"
   ]
  }
 ],
 "metadata": {
  "kernelspec": {
   "display_name": "Julia 1.4.1",
   "language": "julia",
   "name": "julia-1.4"
  },
  "language_info": {
   "file_extension": ".jl",
   "mimetype": "application/julia",
   "name": "julia",
   "version": "1.4.1"
  }
 },
 "nbformat": 4,
 "nbformat_minor": 4
}
