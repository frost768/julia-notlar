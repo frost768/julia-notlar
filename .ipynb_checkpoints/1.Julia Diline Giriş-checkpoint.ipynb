{
 "cells": [
  {
   "cell_type": "markdown",
   "metadata": {},
   "source": [
    "# Julia Diline Başlangıç\n",
    "**Julia** dili, \n",
    "- Python gibi gözüken, \n",
    "- LISP gibi hissetiren, \n",
    "- C ve FORTRAN kadar hızlı olan \n",
    "bir teknik hesaplamalar için kullanılan bir dildir. Yorumlanan bir dil gibi gözükmesine rağmen paketler ve komutlar arkaplanda compile edilir."
   ]
  },
  {
   "cell_type": "markdown",
   "metadata": {},
   "source": [
    "# REPL (Read, Evaluate, Print, Loop)\n",
    "Julia'nın interaktif konsoluna REPL (Oku, Hesapla, Sonucu Yaz, Tekrarla) adı verilmiştir.  \n",
    "Konsolun 4 parçası bulunur:\n",
    "- **julia>**:Julia konutlarının çalıştırıldığı istemci\n",
    "- **shell>**:Eğer UNIX tarzı bir işletim sistemi kullanıyorsanız BASH komutlarını bu istemci üzerinden çalıştırabilirsiniz. shell konsoluna **';'** yazarak geçiş yapabilirsiniz.\n",
    "- **help?>**:Bu konsola **'?'** yazarak geçiş yapabilirsiniz. Bir fonksiyon ya da kütüphane hakkında bilgi almak için kullanılır.\n",
    "- **pkg>**: Kütüphane yükleme, build etme vb. işlemler için kullanılan paket yöneticisidir.  Aynı zamanda **julia>** konsolu üzerinden **Pkg.komut_adi()** olarak ya da **']'** işareti kullanılarak erişilebilir. Bu komutlardan bazıları; add, rm, status, update komutlarıdır.\n",
    "- Yüklü kütüphaneleri konsol ortamına ilave etmek için C-tarzı diller gibi **'using'** ya da Python gibi **'import'** ibaresini kullanır.\n",
    "- Özet olarak kullanılacak simgeler ve kısayollar:\n",
    " - **?**\n",
    " - **;**\n",
    " - **]**\n",
    " - Yukarıda bahsedilmeyen **ans**, son işlemden kalan cevabı içinde tutar  \n",
    "\n",
    "## **Örnekler:**  \n",
    "**julia>** a=5  \n",
    "**julia>** dizi1B = [5,3]  \n",
    "**julia>** dizi2B = [5 3]  \n",
    "**shell>** ls # o anki bulunan klasörü listeler  \n",
    "**shell>** mkdir klasor #\"klasor\" adında klasor oluşturur  \n",
    "**help?>** log() # Logaritma fonksiyonu hakkında bilgi verir  \n",
    "**pkg>** add IJulia # IJulia kütüphanesini yükler  \n",
    "**pkg>** rm kutuphane_adi # Kütüphaneyi kaldırır\n",
    "\n",
    "İsterseniz birkaç matematiksel işlem ile başlayalım. Aritmetik işlemler herkesin bildiği üzere 5+5, 5-4, 5\\*3, 5^3 (Python gibi \"\\**\" değil), a+=5, a*=5 vb işlemler ile sağlanabilir. Bunun dışında operator(arguman1, arguman2,...) şeklinde de bir kullanım mevcuttur."
   ]
  },
  {
   "cell_type": "code",
   "execution_count": 1,
   "metadata": {},
   "outputs": [
    {
     "data": {
      "text/plain": [
       "55"
      ]
     },
     "execution_count": 1,
     "metadata": {},
     "output_type": "execute_result"
    }
   ],
   "source": [
    "args=1:10\n",
    "+(args...) # 55 / ... belirtilen aralığı 1,2,3,... ' e çevirir"
   ]
  },
  {
   "cell_type": "code",
   "execution_count": 9,
   "metadata": {},
   "outputs": [
    {
     "data": {
      "text/plain": [
       "6"
      ]
     },
     "execution_count": 9,
     "metadata": {},
     "output_type": "execute_result"
    }
   ],
   "source": [
    "*(1,2,3) # 6"
   ]
  },
  {
   "cell_type": "markdown",
   "metadata": {},
   "source": [
    "Diğer dillerden farklı olarak kesirleri *ondalıklı* veya *float* tipi ile göstermek dışında **//** ibaresi ile oluşturabilirsiniz."
   ]
  },
  {
   "cell_type": "code",
   "execution_count": 14,
   "metadata": {},
   "outputs": [
    {
     "data": {
      "text/plain": [
       "(2//3, 0.6666666666666666)"
      ]
     },
     "execution_count": 14,
     "metadata": {},
     "output_type": "execute_result"
    }
   ],
   "source": [
    "a=2//3; # 2/3\n",
    "b=2/3 # 0.66\n",
    "a,b"
   ]
  },
  {
   "cell_type": "markdown",
   "metadata": {},
   "source": [
    "Ayrıca REPL komut istemi **Unicode** karakterleri ve **LaTeX** (matematiksel semboller) notasyonunu da destekler.  \n",
    "Böylelikle matematiksel ifadelerin kod içinde kullanımıda sağlanmış olur. (Yine de best practice olarak alfanumerik karakterlerin kullanımı daha yaygın olacağı kesin **:)** ).  \n",
    "Aynı zamanda okunulabilirlik için değişkenlerin sayılar ile çarpımları * (çarpı) işareti kullanılmadan da kullanılabilir."
   ]
  },
  {
   "cell_type": "code",
   "execution_count": 19,
   "metadata": {},
   "outputs": [
    {
     "name": "stdout",
     "output_type": "stream",
     "text": [
      "α+β=180°"
     ]
    }
   ],
   "source": [
    "print(\"α+β=180°\") # \\alpha <TAB> + \\beta <TAB> = 180 \\degree <TAB>"
   ]
  },
  {
   "cell_type": "code",
   "execution_count": 20,
   "metadata": {},
   "outputs": [
    {
     "data": {
      "text/plain": [
       "8"
      ]
     },
     "execution_count": 20,
     "metadata": {},
     "output_type": "execute_result"
    }
   ],
   "source": [
    "x=2;\n",
    "2x+4 # 8"
   ]
  },
  {
   "cell_type": "markdown",
   "metadata": {},
   "source": [
    "Dizilerde elementer (element bazlı) işlemler için dağıtıcı (broadcast) operatörü olan **\".\"** nın kullanımı da şöyledir:\n",
    "- dizi1.*operator*(dizi2) = dizi1'in dizi2'deki karşılığını al ve operatör işlemini uygula."
   ]
  },
  {
   "cell_type": "code",
   "execution_count": 24,
   "metadata": {},
   "outputs": [
    {
     "data": {
      "text/plain": [
       "3-element Array{Int64,1}:\n",
       " 3\n",
       " 5\n",
       " 7"
      ]
     },
     "execution_count": 24,
     "metadata": {},
     "output_type": "execute_result"
    }
   ],
   "source": [
    "a=[1,2,3]; b=[2,3,4];\n",
    "a.+(b)"
   ]
  },
  {
   "cell_type": "markdown",
   "metadata": {},
   "source": [
    "## Stringler ve Karakterler\n",
    "Stringler ve karakterler arasındaki farklar tırnak işaretleri ile belirlenir.\n",
    "- \"Kelime\"\n",
    "- \"\"\"Winston birden duraksadı. \"Ben bu günlüğü kim için yazıyorum?\" dedi.\"\"\"\n",
    "- 'J','u','l','i','a' \n",
    "\n",
    "Stringlerin Komutları\n",
    "- *string(\"Julia\",\" Winston\",\" Telescreen\")* # \"Julia Winston Telescreen\"\n",
    "- replace(degistirilecek_str,aranan ==> yerine_gecen), findfirst(chr,str)\n",
    "- length(str)\n",
    "- split(s)\n",
    "- first/lastindex(s)\n",
    "- upper/lowercase(s)\n",
    "- reverse(s)\n",
    "- lpad(s,n)/ rpad(s,n): sol/sağ boşluk bırak\n",
    "- occursin(\"aranan\",\"içeren\"): aranan içerende var mı"
   ]
  },
  {
   "cell_type": "code",
   "execution_count": 87,
   "metadata": {},
   "outputs": [
    {
     "data": {
      "text/plain": [
       "(17, \"Python ogreniyorum\", 7:8)"
      ]
     },
     "execution_count": 87,
     "metadata": {},
     "output_type": "execute_result"
    }
   ],
   "source": [
    "cumle=\"Julia ogreniyorum\"\n",
    "uzunluk, python_julia, ilk_y_harfi=length(cumle),\n",
    "                                replace(cumle,\"Julia\" =>\"Python\"),\n",
    "                                findfirst(\"og\",cumle)"
   ]
  },
  {
   "cell_type": "markdown",
   "metadata": {},
   "source": [
    "## Değişkenler ve çoklu atama\n",
    "Değişken isimleri **noktalama işaretleri ve sayılar hariç** her karakter ile başlaması uygundur.  \n",
    "Hatta özel *Unicode* karakterleri de bunlar için kullanılabilir.  \n",
    "Print fonksiyonunda değişkenlere erişilmesi için *$* işareti kullanılır.\n",
    "- const : sadece global seviyede kullanılabilir, değişkenin tür değiştirmesine engel olur değerini korumaz\n",
    "- global, local : anahtar kelimeleri bir değişken için kapsam tanımlar.\n",
    "- varinfo() : o ana kadarki global değişkenleri ve tiplerini gösterir."
   ]
  },
  {
   "cell_type": "code",
   "execution_count": 6,
   "metadata": {},
   "outputs": [
    {
     "name": "stderr",
     "output_type": "stream",
     "text": [
      "WARNING: redefining constant a\n",
      "WARNING: redefining constant a\n"
     ]
    },
    {
     "data": {
      "text/plain": [
       "(5, 5000.0, 9.0, \"_\", 8)"
      ]
     },
     "execution_count": 6,
     "metadata": {},
     "output_type": "execute_result"
    }
   ],
   "source": [
    "const a=5;\n",
    "🐱=5; 🐢=5e3; 🐶=9.0; # ya da \n",
    "🐱,🐢,🐶=(5,5e3,9.0);\n",
    "_underscore=\"_\";\n",
    "a=8; #değiştirilebilir tür değişemez\n",
    "#a=8.0; hata\n",
    "🐱,🐢,🐶,_underscore,a"
   ]
  },
  {
   "cell_type": "code",
   "execution_count": 29,
   "metadata": {},
   "outputs": [
    {
     "name": "stdout",
     "output_type": "stream",
     "text": [
      "Winston'ın 5 tane kedisi var"
     ]
    }
   ],
   "source": [
    "print(\"Winston'ın $🐱 tane kedisi var\")"
   ]
  },
  {
   "cell_type": "code",
   "execution_count": 32,
   "metadata": {
    "scrolled": false
   },
   "outputs": [
    {
     "name": "stdout",
     "output_type": "stream",
     "text": [
      "Julia'nın 3 x 4 boyutlu 12 verisi var\n"
     ]
    }
   ],
   "source": [
    "x,y=3,4;\n",
    "println(\"Julia'nın $x x $y boyutlu $(x*y) verisi var\")"
   ]
  },
  {
   "cell_type": "markdown",
   "metadata": {},
   "source": [
    "# Fonksiyonlar\n",
    "## Fonksiyon tanımlama\n",
    "- function fonk_ad(arg1,arg2=varsayılan_deger,...; keyword=deger) | function fonk_ad(args...)\n",
    "    - yapılacak seyler\n",
    "    - println(\"Ben bir fonksiyonum\")\n",
    "        - function fonk_ici_fonk(args)\n",
    "           - kapsayan fonksiyona yardımcı\n",
    "           - olan şeyler yap\n",
    "        - end\n",
    "- end   \n",
    "*veya*  \n",
    "- fonk_ad(args)= islemler  \n",
    "*veya*  \n",
    "Lambda (anonim) fonksiyonlar\n",
    "- (arg1,arg2,..) -> islemler\n",
    "- fonk_ad!(args) : fonksiyonun verilen argüman içeriğini değiştirdiğini belirtir\n",
    "- **keyword**ler isteğe bağlıdır. argüman listesinde istenilen yere koyulabilirler. Argümanların verilme sırası önemlidir.\n",
    "    - fonk(keyword=deger, arg1,arg2) : çalışır\n",
    "    - fonk(keyword=deger, arg2,arg1) : çalışmaz\n",
    "\n",
    "- Fonksiyonlar obje gibi döndürülebilirler\n",
    "    - return fonk_adi\n",
    "\n",
    "## Explicit Tipli Fonksiyonlar\n",
    "- function fonk_ad(args::*T*)::Tip *where T <:* Tip\n",
    "    - bir seyler yap\n",
    "    - sonuc=islem_sonucu\n",
    "    - return sonuc\n",
    "- end"
   ]
  },
  {
   "cell_type": "code",
   "execution_count": 21,
   "metadata": {},
   "outputs": [
    {
     "name": "stdout",
     "output_type": "stream",
     "text": [
      "Merhaba Andrei Tartovsky, tanıştığımıza memnun oldum.\n",
      "Merhaba Andrei\n",
      "Nasıl gidiyor, Andrei The Director ?\n"
     ]
    }
   ],
   "source": [
    "function merhaba_de(ad,soyad)\n",
    "    println(\"Merhaba $ad $soyad\" * \", tanıştığımıza memnun oldum.\")\n",
    "end\n",
    "\n",
    "#samimiyet önemli\n",
    "merhaba2(ad)=println(\"Merhaba $ad\")\n",
    "nasılsın= (ad,soyad=\"The Director\") -> println(\"Nasıl gidiyor, $ad $soyad ?\")\n",
    "\n",
    "merhaba_de(\"Andrei\",\"Tartovsky\")\n",
    "merhaba2(\"Andrei\")\n",
    "nasılsın(\"Andrei\")"
   ]
  },
  {
   "cell_type": "code",
   "execution_count": 3,
   "metadata": {},
   "outputs": [
    {
     "name": "stdout",
     "output_type": "stream",
     "text": [
      "kare_Al(A) = [34 56 39 37; 30 57 40 40; 32 60 36 42; 24 44 28 26]\n",
      "topla_Bakalim(A) = 50\n"
     ]
    },
    {
     "data": {
      "text/plain": [
       "50"
      ]
     },
     "execution_count": 3,
     "metadata": {},
     "output_type": "execute_result"
    }
   ],
   "source": [
    "#sayısal fonksiyonlar deneyelim\n",
    "A=rand(1:6,4,4); B=collect(rand(1:100,6));\n",
    "kare_Al(x) = x^2\n",
    "topla_Bakalim(dizi)=sum(dizi)\n",
    "@show kare_Al(A) # @show bir makro olup verilen expression için değer döndürür\n",
    "@show topla_Bakalim(A)"
   ]
  },
  {
   "cell_type": "code",
   "execution_count": 4,
   "metadata": {},
   "outputs": [
    {
     "data": {
      "text/plain": [
       "6-element Array{Int64,1}:\n",
       " 9025\n",
       "  400\n",
       " 4761\n",
       "  144\n",
       " 7396\n",
       " 3025"
      ]
     },
     "execution_count": 4,
     "metadata": {},
     "output_type": "execute_result"
    }
   ],
   "source": [
    "#kare_Al(B) : hata verir vektörlerin karesi alınamaz\n",
    "kare_Al.(B) #kare_Al fonksiyonun işlevini her bir element için uyguladı (yayma:broadcasting)"
   ]
  },
  {
   "cell_type": "code",
   "execution_count": 5,
   "metadata": {},
   "outputs": [
    {
     "data": {
      "text/plain": [
       "([12, 20, 55, 69, 86, 95], [95, 20, 69, 12, 86, 55])"
      ]
     },
     "execution_count": 5,
     "metadata": {},
     "output_type": "execute_result"
    }
   ],
   "source": [
    "sort(B),B"
   ]
  },
  {
   "cell_type": "code",
   "execution_count": 111,
   "metadata": {},
   "outputs": [
    {
     "data": {
      "text/plain": [
       "([2, 58, 65, 70, 83, 86], [2, 58, 65, 70, 83, 86])"
      ]
     },
     "execution_count": 111,
     "metadata": {},
     "output_type": "execute_result"
    }
   ],
   "source": [
    "sort!(B),B"
   ]
  },
  {
   "cell_type": "code",
   "execution_count": 6,
   "metadata": {},
   "outputs": [
    {
     "data": {
      "text/plain": [
       "\"6\""
      ]
     },
     "execution_count": 6,
     "metadata": {},
     "output_type": "execute_result"
    }
   ],
   "source": [
    "function sayiDonustur(sayi::T)::String where T <:Number\n",
    "    return \"$sayi\"\n",
    "end\n",
    "sayiDonustur(6)\n",
    "#sayiDonustur(\"gd\") -> hata"
   ]
  },
  {
   "cell_type": "markdown",
   "metadata": {},
   "source": [
    "### Tuple'lar ve Sözlükler (Dicts)\n",
    "- Tuple'lar değiştirilemez listelerdir **(değer1,değer2,..)** şeklinde bir yapısı vardır.\n",
    "- Değerler farklı türlerde olabilir.\n",
    "#### İsimli Tuple'lar\n",
    "    - Değerlerinin sözlükler gibi anahtara sahip olduğu tuple'lardır.\n",
    "    - ucgen=( kose1=(1,1), kose2=(2,2), kose3=(2,1)) gibi\n",
    "    - Farklı tuple'lar merge ile birleştirilir : merge(t1,t2)\n",
    "    - fieldnames(typeof(t)) /keys(t) : anahtar degerleri döndürür.\n",
    "    - values(t) / pairs(t) : değerleri al / for döngüsü için (anahtar,değer) ikilileri döndürür.\n",
    "    - Kullanım için fonksiyonlara parametere gönderimi düşünülebilir\n",
    "    - t[i] = i.element\n",
    "### Sözlükler\n",
    "- anahtar,değer mantığı\n",
    "- s1[\"anahtar\"]=deger\n",
    "- Dict(\"Julia\"=>\"C,Fortran,Python kadar hızlı\", \"Python\"=>\"Veri biliminde öncü dil\") gibi değerler verilip oluşturulabildiği gibi s1=Dict() ile boş da oluşturulabilir\n",
    "- keys(), values() tuple'lar gibi çalışır\n",
    "- haskey(sozluk,'key') : key adında anahtar var mı\n",
    "- delete!(sozluk,\"anahtar\") : anahtarı sözlükten sil\n",
    "- in(('anahtar'=>değer), sozluk) : sozluk'te anahtar=değer olan bir anahtar,değer ikilisi var mı\n",
    "- for (k,v) in sozluk; print(\"$k değeri $v\")"
   ]
  },
  {
   "cell_type": "code",
   "execution_count": 40,
   "metadata": {},
   "outputs": [
    {
     "data": {
      "text/plain": [
       "((1, 1), (2, 2), (2, 1))"
      ]
     },
     "execution_count": 40,
     "metadata": {},
     "output_type": "execute_result"
    }
   ],
   "source": [
    "ucgen=( kose1=(1,1), kose2=(2,2), kose3=(2,1));\n",
    "sozluk=Dict(\"abbot\"=>\"başrahip\", \"bir\"=>1);\n",
    "sozluk[\"fathomable\"]=\"anlasilmasi güc\";\n",
    "A,B,C=ucgen.kose1, ucgen.kose2, ucgen.kose3"
   ]
  },
  {
   "cell_type": "code",
   "execution_count": 14,
   "metadata": {},
   "outputs": [
    {
     "name": "stdout",
     "output_type": "stream",
     "text": [
      "i = (1, 1)\n",
      "i = (2, 2)\n",
      "i = (2, 1)\n"
     ]
    }
   ],
   "source": [
    "for i in ucgen; @show i; end"
   ]
  },
  {
   "cell_type": "code",
   "execution_count": 41,
   "metadata": {},
   "outputs": [
    {
     "name": "stdout",
     "output_type": "stream",
     "text": [
      "(k, v) = (\"bir\", 1)\n",
      "(k, v) = (\"abbot\", \"başrahip\")\n",
      "(k, v) = (\"fathomable\", \"anlasilmasi güc\")\n"
     ]
    }
   ],
   "source": [
    "for (k,v) in sozluk; @show (k,v); end"
   ]
  },
  {
   "cell_type": "code",
   "execution_count": 37,
   "metadata": {},
   "outputs": [
    {
     "data": {
      "text/plain": [
       "((:kose1, :kose2, :kose3), ((1, 1), (2, 2), (2, 1)))"
      ]
     },
     "execution_count": 37,
     "metadata": {},
     "output_type": "execute_result"
    }
   ],
   "source": [
    "keys(ucgen), values(ucgen)"
   ]
  },
  {
   "cell_type": "code",
   "execution_count": 39,
   "metadata": {},
   "outputs": [
    {
     "name": "stdout",
     "output_type": "stream",
     "text": [
      "x+y=3.0, 1, 2, 6\n"
     ]
    }
   ],
   "source": [
    "function isle(x::Float64, y::Float64; arg1=1,arg2=7, arg3=5)\n",
    "    println(\"x+y=$(x+y), $arg1, $arg2, $arg3\")\n",
    "end\n",
    "args=(arg2=2,arg3=6);\n",
    "isle(1.0,2.0; args...)"
   ]
  },
  {
   "cell_type": "markdown",
   "metadata": {},
   "source": [
    "## Missing / NaN / Nothing\n",
    "- Missing : İstatiksel bakımdan olduğu yerde bir değer olmalı ama bilinmiyor\n",
    "- NaN / Not a Number : 0/0 gibi işlemlerden dönen hata\n",
    "- Nothing : C'deki NULL"
   ]
  },
  {
   "cell_type": "code",
   "execution_count": 2,
   "metadata": {},
   "outputs": [
    {
     "data": {
      "text/plain": [
       "NaN"
      ]
     },
     "execution_count": 2,
     "metadata": {},
     "output_type": "execute_result"
    }
   ],
   "source": [
    "0/0"
   ]
  }
 ],
 "metadata": {
  "kernelspec": {
   "display_name": "Julia 1.4.1",
   "language": "julia",
   "name": "julia-1.4"
  },
  "language_info": {
   "file_extension": ".jl",
   "mimetype": "application/julia",
   "name": "julia",
   "version": "1.4.1"
  }
 },
 "nbformat": 4,
 "nbformat_minor": 4
}
