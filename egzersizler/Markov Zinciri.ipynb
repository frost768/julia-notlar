{
 "cells": [
  {
   "cell_type": "markdown",
   "metadata": {},
   "source": [
    "# MARKOV ZİNCİRİ İLE METİN ÜRETME\n",
    "Bir markov zinciri kullanılarak bir metinde geçen harflerin frekanslarına bakarak herhangi bir kelimedeki bir sonraki harfin ne olacağını tahmin etmeye çalışan bir sistemdir.  \n",
    "Mertebeleri vardır. Bu mertebe kelime bir sonraki harfi tahmin etmeden önceki kaç harfe bakıldığını gösterir. $k-gram$ ya da $k.mertebe$ de denilebilir.  \n",
    "- Google'ın otomatik arama tamamlaması gibi\n",
    "\n",
    "Örnek verecek olursak;\n",
    "Elimizde \"aggcggacc\" gibi 3 harfli bir alfabeden oluşan anlamlı bir kelime olsun  \n",
    "Bu kelimedeki harflerin frekanslarına bakarak belirme olasılıklarını bulabiliriz  \n",
    "$a=\\frac{2}{9}, g=\\frac{4}{9}$ ve $c=\\frac{3}{9}$ gibi bir sonuç ile her harfin belirme olasıklkları bulunur.  \n",
    "Elimizdeki bu model ile farklı uzunluklardaki kelimeler bu olasılıklara bakarak oluşturulabilir.\n",
    "\n",
    "## Mertebeler\n",
    "- 0.Dereceden bir mertebe (önceki harflere bakmadan) her harfin kendi olasılığı ile belireceğini belirtir.\n",
    "- 1.dereceden bir mertebe önceki 1 harfe bakarak bir sonraki tahmini önceki harfin olasılığına göre ağırlık verdirir.\n",
    "- Mertebeler böyle devam edebilir.  \n",
    "\n",
    "Örneğin bir metinde 100 tane **th** hecesi var ve bu **th** hecesini kapsayan 60 th**e**, 25 th**i**, 10 th**a** ve 5 tane th**o** hecesi var ise 2-gram'lık (2.mertebeden) bir Markov zincirine göre  \n",
    "$e=\\frac{3}{5}=.6\\; i=\\frac{1}{4}=.25 \\; a=\\frac{1}{10}=.1$ ve $o=\\frac{1}{20}=.05$ olasılık ile **th** hecesinden sonra belirir.\n",
    "\n",
    "[Kaynak](https://www.cs.princeton.edu/courses/archive/spring05/cos126/assignments/markov.html)"
   ]
  },
  {
   "cell_type": "code",
   "execution_count": 179,
   "metadata": {},
   "outputs": [
    {
     "name": "stderr",
     "output_type": "stream",
     "text": [
      "WARNING: replacing module text.\n"
     ]
    },
    {
     "data": {
      "text/plain": [
       "\"adopted which mrs annesley is excellent one into could forgive their good breeding but consider what we meet reason by unqualified for happiness they were mounting object then sick lady in derbyshire could from shyness and unsettled were ready delight can form such as years had liked her many as improbable nor to outrun under good humour to compose herself most kind invitation was assured it almost envy you abuse of sleep and sat opposite hills with fortitude and drink and knew him chiefly in displaying the admiring multitude very sure\""
      ]
     },
     "execution_count": 179,
     "metadata": {},
     "output_type": "execute_result"
    }
   ],
   "source": [
    "include(\"text.jl\")\n",
    "function kelime_sec_rand(dict::Dict)\n",
    "    return collect(keys(dict))[rand(1:length(keys(dict)))]\n",
    "end\n",
    "\n",
    "function kelime_sec_rand(dict::Array{String})\n",
    "    return dict[rand(1:length(dict))]\n",
    "end\n",
    "\n",
    "function yaz(sozluk,kelime,sayi)\n",
    "    g=kelime\n",
    "    next=\"\"\n",
    "    for i in 1:sayi\n",
    "        if !(kelime in keys(sozluk))\n",
    "            kelime=kelime_sec_rand(sozluk)\n",
    "        elseif isempty(sozluk[kelime])\n",
    "            kelime=kelime_sec_rand(sozluk)\n",
    "        else\n",
    "            next=kelime_sec_rand(sozluk[kelime])   \n",
    "            kelime=next\n",
    "            g*= \" \" * next\n",
    "        end\n",
    "    end\n",
    "    g\n",
    "end\n",
    "\n",
    "function markovchain(path)\n",
    "    word_to_next_word_dict=Dict(text.oku(path))\n",
    "    baslama_kelimesi=kelime_sec_rand(word_to_next_word_dict)\n",
    "    yaz(word_to_next_word_dict,baslama_kelimesi,100)\n",
    "end\n",
    "markovchain(\"../data/prideandprejudice.txt\")"
   ]
  }
 ],
 "metadata": {
  "kernelspec": {
   "display_name": "Julia 1.4.1",
   "language": "julia",
   "name": "julia-1.4"
  },
  "language_info": {
   "file_extension": ".jl",
   "mimetype": "application/julia",
   "name": "julia",
   "version": "1.4.1"
  }
 },
 "nbformat": 4,
 "nbformat_minor": 4
}
