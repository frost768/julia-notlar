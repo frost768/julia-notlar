{
 "cells": [
  {
   "cell_type": "markdown",
   "metadata": {},
   "source": [
    "# Tip Belirtiminin Önemi\n",
    "Tiplerin kullanımında ne kadar serbest olsakta kodun hızlı çalışması için tip belirtmek gerekir. Bilgisayarın işlem gücünü tip dönüşümlerine harcaması bizim için zaman kaybıdır ve zamandan kazanmak için derleyiciye değişkenlerin tiplerini açık (explicit) şekilde belirtmek gerekir.\n",
    "- Bir kodun çalışmsının ne kadar zaman aldığını görmek için **@time** komutu kullanılır."
   ]
  },
  {
   "cell_type": "code",
   "execution_count": 179,
   "metadata": {},
   "outputs": [
    {
     "name": "stdout",
     "output_type": "stream",
     "text": [
      "  0.000011 seconds (5 allocations: 224 bytes)\n"
     ]
    }
   ],
   "source": [
    "@time a=[1 0.2 3];"
   ]
  },
  {
   "cell_type": "code",
   "execution_count": 181,
   "metadata": {},
   "outputs": [
    {
     "name": "stdout",
     "output_type": "stream",
     "text": [
      "  0.000005 seconds (1 allocation: 112 bytes)\n"
     ]
    }
   ],
   "source": [
    "@time a=[1.0 0.2 3.0 ];"
   ]
  },
  {
   "cell_type": "markdown",
   "metadata": {},
   "source": [
    "Görüldüğü üzere iki farklı tipin bulunduğu dizinin üretilmesi daha uzun zaman aldı.Tiplerin önemini bu şekilde belirttikten sonra tiplerden bahsetmeye devam edebiliriz."
   ]
  },
  {
   "cell_type": "markdown",
   "metadata": {},
   "source": [
    "## Tipler ve Özel Fonksiyonlar\n",
    "- Julia için tipi belirlenmemiş her bir değişken **Any** tipindedir.\n",
    "- Bir tipin üst ve alt tiplerini görmek için **supertype() - subtypes()** fonksiyonları kullanılır.\n",
    "- Tipin max ve  min değerleri **typemax(tip) - typemin(tip)** fonksiyonları ile görülebilir\n",
    "- Tipin bellekte tuttuğu yeri ise **sizeof(tip)** ile görebiliriz."
   ]
  },
  {
   "cell_type": "code",
   "execution_count": 118,
   "metadata": {},
   "outputs": [
    {
     "data": {
      "text/plain": [
       "2-element Array{Any,1}:\n",
       " Complex\n",
       " Real"
      ]
     },
     "execution_count": 118,
     "metadata": {},
     "output_type": "execute_result"
    }
   ],
   "source": [
    "subtypes(Number) # Number tipinin alt tipleri"
   ]
  },
  {
   "cell_type": "code",
   "execution_count": 119,
   "metadata": {},
   "outputs": [
    {
     "data": {
      "text/plain": [
       "Unsigned"
      ]
     },
     "execution_count": 119,
     "metadata": {},
     "output_type": "execute_result"
    }
   ],
   "source": [
    "supertype(UInt32) #Unsigned"
   ]
  },
  {
   "cell_type": "code",
   "execution_count": 148,
   "metadata": {},
   "outputs": [
    {
     "name": "stdout",
     "output_type": "stream",
     "text": [
      "UInt8\t1\n",
      "UInt32\t4\n",
      "BigInt\t16\n",
      "Float64\t8\n"
     ]
    }
   ],
   "source": [
    "Tipler=[UInt8,UInt32,BigInt,Float64];\n",
    "for i in Tipler\n",
    "    print(\"$i\\t\")\n",
    "    println(sizeof(i))\n",
    "end"
   ]
  },
  {
   "cell_type": "markdown",
   "metadata": {},
   "source": [
    "### Fonksiyonlarda Tip Belirtimi ve Metodlar\n",
    "Fonksiyonların argümanları ve döndüreceği değerin tipini Julia'da belirtebilirsiniz. C, C# gibi dillerden gelenler aşinadır.\n",
    "\n",
    "- function fonk_ad(x::Tip, y::Tip) :: Donus_Tipi  \n",
    "    - .....   \n",
    "    - return donus_tipine_uyan bir islem  \n",
    "- end  "
   ]
  },
  {
   "cell_type": "code",
   "execution_count": 1,
   "metadata": {},
   "outputs": [
    {
     "data": {
      "text/plain": [
       "\"5\""
      ]
     },
     "execution_count": 1,
     "metadata": {},
     "output_type": "execute_result"
    }
   ],
   "source": [
    "function topla_string_don(x::Int,y::Int) :: String\n",
    "    return string(x+y)\n",
    "end\n",
    "topla_string_don(0,5)\n",
    "#topla_string_don(5.3,4) hata verir 5.3 Int grubuna girmez"
   ]
  },
  {
   "cell_type": "code",
   "execution_count": 2,
   "metadata": {},
   "outputs": [
    {
     "data": {
      "text/plain": [
       "\"9.3\""
      ]
     },
     "execution_count": 2,
     "metadata": {},
     "output_type": "execute_result"
    }
   ],
   "source": [
    "function topla_string_don(x::Float64,y::Int) :: String\n",
    "    return string(x+y)\n",
    "end\n",
    "topla_string_don(5.3,4) # artık çalışır çünkü fonksiyona ait ikinci bir metod vardır"
   ]
  },
  {
   "cell_type": "code",
   "execution_count": 6,
   "metadata": {},
   "outputs": [
    {
     "data": {
      "text/plain": [
       "topla_string_don (generic function with 2 methods)"
      ]
     },
     "execution_count": 6,
     "metadata": {},
     "output_type": "execute_result"
    }
   ],
   "source": [
    "# Fonksiyonların tüm metodlarını görmek için\n",
    "# methods(fonk_adi) veya parantezsiz bir şekilde fonk_adi yazarak görebilirsiniz\n",
    "topla_string_don"
   ]
  },
  {
   "cell_type": "code",
   "execution_count": null,
   "metadata": {},
   "outputs": [],
   "source": [
    "# Aynı zamanda operatörlerinde aşırı yüklenmiş (overloaded) fonksiyonlar olduğunu unutmayın"
   ]
  },
  {
   "cell_type": "code",
   "execution_count": 8,
   "metadata": {
    "scrolled": true
   },
   "outputs": [
    {
     "data": {
      "text/html": [
       "# 7 methods for generic function <b>//</b>:<ul><li> //(n::<b>Integer</b>, d::<b>Integer</b>) in Base at <a href=\"https://github.com/JuliaLang/julia/tree/381693d3dfc9b7072707f6d544f82f6637fc5e7c/base/rational.jl#L50\" target=\"_blank\">rational.jl:50</a></li> <li> //(x::<b>Rational</b>, y::<b>Integer</b>) in Base at <a href=\"https://github.com/JuliaLang/julia/tree/381693d3dfc9b7072707f6d544f82f6637fc5e7c/base/rational.jl#L53\" target=\"_blank\">rational.jl:53</a></li> <li> //(x::<b>Integer</b>, y::<b>Rational</b>) in Base at <a href=\"https://github.com/JuliaLang/julia/tree/381693d3dfc9b7072707f6d544f82f6637fc5e7c/base/rational.jl#L57\" target=\"_blank\">rational.jl:57</a></li> <li> //(x::<b>Rational</b>, y::<b>Rational</b>) in Base at <a href=\"https://github.com/JuliaLang/julia/tree/381693d3dfc9b7072707f6d544f82f6637fc5e7c/base/rational.jl#L61\" target=\"_blank\">rational.jl:61</a></li> <li> //(x::<b>Complex</b>, y::<b>Real</b>) in Base at <a href=\"https://github.com/JuliaLang/julia/tree/381693d3dfc9b7072707f6d544f82f6637fc5e7c/base/rational.jl#L66\" target=\"_blank\">rational.jl:66</a></li> <li> //(x::<b>Number</b>, y::<b>Complex</b>) in Base at <a href=\"https://github.com/JuliaLang/julia/tree/381693d3dfc9b7072707f6d544f82f6637fc5e7c/base/rational.jl#L67\" target=\"_blank\">rational.jl:67</a></li> <li> //(X::<b>AbstractArray</b>, y::<b>Number</b>) in Base at <a href=\"https://github.com/JuliaLang/julia/tree/381693d3dfc9b7072707f6d544f82f6637fc5e7c/base/rational.jl#L70\" target=\"_blank\">rational.jl:70</a></li> </ul>"
      ],
      "text/plain": [
       "# 7 methods for generic function \"//\":\n",
       "[1] //(n::Integer, d::Integer) in Base at rational.jl:50\n",
       "[2] //(x::Rational, y::Integer) in Base at rational.jl:53\n",
       "[3] //(x::Integer, y::Rational) in Base at rational.jl:57\n",
       "[4] //(x::Rational, y::Rational) in Base at rational.jl:61\n",
       "[5] //(x::Complex, y::Real) in Base at rational.jl:66\n",
       "[6] //(x::Number, y::Complex) in Base at rational.jl:67\n",
       "[7] //(X::AbstractArray, y::Number) in Base at rational.jl:70"
      ]
     },
     "execution_count": 8,
     "metadata": {},
     "output_type": "execute_result"
    }
   ],
   "source": [
    "methods(//)"
   ]
  },
  {
   "cell_type": "markdown",
   "metadata": {},
   "source": [
    "# Özel Tip Oluşturma ve OOP"
   ]
  },
  {
   "cell_type": "markdown",
   "metadata": {},
   "source": [
    "Hazır methodlara girmiş iken bir de struct'lardan bahsedelim. Yine C ve C# alanından gelenler bu yapıyı bileceklerdir. **Kalın olanlar isteğe bağlıdır.**\n",
    "- **mutable** struct struct_adi **<:ust_tip**\n",
    "    - alan1 //bu alan Any olarak tanımlanır ve istediğpi tipte değer alabilir\n",
    "    - alan2::Tip\n",
    "    - alan3::Tip\n",
    "    - **struct_adi(alanlar) = new(alanlar) # yapıcı method**\n",
    "- end\n",
    "- Julia otomatik olarak bu structlara yapıcı bir method oluşturur ve **struct_adi(alan1,alan2,...)** şeklinde çağırılır. Kendiniz yapıcı method yazarsanız varsayılan olan devre dışı kalır.\n",
    "- Mutable (değiştirilebilir) anahtar kelimesi kullanılırsa içlerindeki alanları değiştirebilirsiniz.\n",
    "- Alanların bir listesini görmek için fields(struct_adi) fonksiyonu kullanılır.\n",
    "- Olusturulan struct objelerinin alanlarına **struct_adi.alan** ile ulaşılabilir."
   ]
  },
  {
   "cell_type": "code",
   "execution_count": 3,
   "metadata": {},
   "outputs": [
    {
     "ename": "ErrorException",
     "evalue": "syntax: \"id::Int64 = 1\" inside type definition is reserved",
     "output_type": "error",
     "traceback": [
      "syntax: \"id::Int64 = 1\" inside type definition is reserved",
      "",
      "Stacktrace:",
      " [1] top-level scope at C:\\Users\\LENOVO\\.julia\\packages\\IJulia\\DrVMH\\src\\kernel.jl:52"
     ]
    }
   ],
   "source": [
    "struct Musteri\n",
    "    id::Int64\n",
    "    ad::String\n",
    "    soyad::String\n",
    "    bakiye::Float64\n",
    "end\n",
    "\n",
    "mutable struct Musteri2\n",
    "    id::Int64\n",
    "    ad::String\n",
    "    soyad::String\n",
    "    vadesiz_bakiye::Float64\n",
    "    Musteri2(id,ad,soyad,bakiye) = bakiye < 0 ? println(\"Bakiye 0'dan küçük olamaz\") : new(id,ad,soyad,bakiye)\n",
    "end"
   ]
  },
  {
   "cell_type": "code",
   "execution_count": 5,
   "metadata": {},
   "outputs": [
    {
     "name": "stdout",
     "output_type": "stream",
     "text": [
      "Bakiye 0'dan küçük olamaz\n"
     ]
    }
   ],
   "source": [
    "adam=Musteri(1,\"Adam\",\"Sandler\",5342.2)\n",
    "adam2=Musteri2(1,\"Adam\",\"Sandler\",-2)\n",
    "#adam.ad=\"Tony\" hata verir çünkü mutable değildir"
   ]
  },
  {
   "cell_type": "code",
   "execution_count": 27,
   "metadata": {},
   "outputs": [
    {
     "name": "stdout",
     "output_type": "stream",
     "text": [
      "Tony\n"
     ]
    }
   ],
   "source": [
    "adam2.ad=\"Tony\"\n",
    "println(adam2.ad)"
   ]
  },
  {
   "cell_type": "markdown",
   "metadata": {},
   "source": [
    "Kendi üst tipimizi oluşturmak için\n",
    "- abstract type tip_adi (<:üst_tip) end\n",
    "kullanılır ve bu bir tür özel tip hiyerarşisi oluşturmak için kullanılır. Kalıtım konusunu biliyor iseniz daha iyi anlayabilirsiniz."
   ]
  },
  {
   "cell_type": "code",
   "execution_count": 25,
   "metadata": {
    "scrolled": true
   },
   "outputs": [
    {
     "data": {
      "text/plain": [
       "\"*kükrer*\""
      ]
     },
     "execution_count": 25,
     "metadata": {},
     "output_type": "execute_result"
    }
   ],
   "source": [
    "abstract type Kedigil end\n",
    "struct Aslan <:Kedigil\n",
    "    ses::String\n",
    "end\n",
    "\n",
    "struct Kedi <:Kedigil\n",
    "    ses::String\n",
    "end\n",
    "kedi1=Kedi(\"miyav\")\n",
    "kedi2=Aslan(\"*kükrer*\")\n",
    "kedi2.ses"
   ]
  }
 ],
 "metadata": {
  "kernelspec": {
   "display_name": "Julia 1.4.1",
   "language": "julia",
   "name": "julia-1.4"
  },
  "language_info": {
   "file_extension": ".jl",
   "mimetype": "application/julia",
   "name": "julia",
   "version": "1.4.1"
  }
 },
 "nbformat": 4,
 "nbformat_minor": 4
}
